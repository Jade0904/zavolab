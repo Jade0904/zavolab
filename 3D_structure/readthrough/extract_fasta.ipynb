{
 "cells": [
  {
   "cell_type": "code",
   "execution_count": 1,
   "id": "416154a8-1987-43c6-9696-b1fcd11cf184",
   "metadata": {},
   "outputs": [],
   "source": [
    "import pandas as pd\n",
    "import os"
   ]
  },
  {
   "cell_type": "code",
   "execution_count": 2,
   "id": "7b558e43-32c4-4c25-a7e0-d62258519cc6",
   "metadata": {},
   "outputs": [],
   "source": [
    "sheet_name = \"No_Evidence\"\n",
    "df = pd.read_excel(\"Readthrough_Sequences.xlsx\", sheet_name = sheet_name)\n",
    "colname_C = \"Main CDS\"\n",
    "colname_R = \"Readthrough form\"\n",
    "\n",
    "# select 1k rows randomly\n",
    "df = df.sample(n=1000, random_state=42)"
   ]
  },
  {
   "cell_type": "code",
   "execution_count": 6,
   "id": "103aafa1-6a9a-459c-b4c5-a4d6b852b7e2",
   "metadata": {},
   "outputs": [],
   "source": [
    "for index, row in df.iterrows():\n",
    "\n",
    "    # set fasta file names\n",
    "    fasta_name_C = row['Protein'] + \"_\" + str(index) + \"_C.fasta\" # C stands for Canonical\n",
    "    fasta_name_R = row['Protein'] + \"_\" + str(index) + \"_R.fasta\" # R stands for Readthrough\n",
    "\n",
    "    # set fasta file paths\n",
    "    fasta_path_C = os.path.join(\"fasta\", sheet_name, fasta_name_C)\n",
    "    fasta_path_R = os.path.join(\"fasta\", sheet_name, fasta_name_R)\n",
    "    \n",
    "    # write Canonical sequence into fasta file\n",
    "    with open(fasta_path_C, 'w') as file:\n",
    "        header = row['Protein'] + \"_\" + str(index) + \"_C\" # Canonical sequence header\n",
    "        seq = row[colname_C] # Canonical sequence\n",
    "        file.write(f'>{header}\\n') # write the header\n",
    "        file.write(f'{seq}') # write the sequence\n",
    "    # write Readthrough sequence into fasta file\n",
    "    with open(fasta_path_R, 'w') as file:\n",
    "        header = row['Protein'] + \"_\" + str(index) + \"_R\" # Readthrough sequence header\n",
    "        seq = row[colname_R] # Readthrough sequence\n",
    "        file.write(f'>{header}\\n') # write the header\n",
    "        file.write(f'{seq}') # write the sequence"
   ]
  },
  {
   "cell_type": "code",
   "execution_count": null,
   "id": "e28c42f5-a999-489c-b9f9-57522b3c8a9a",
   "metadata": {},
   "outputs": [],
   "source": []
  }
 ],
 "metadata": {
  "kernelspec": {
   "display_name": "Python [conda env:miniforge3-structure_wf]",
   "language": "python",
   "name": "conda-env-miniforge3-structure_wf-py"
  },
  "language_info": {
   "codemirror_mode": {
    "name": "ipython",
    "version": 3
   },
   "file_extension": ".py",
   "mimetype": "text/x-python",
   "name": "python",
   "nbconvert_exporter": "python",
   "pygments_lexer": "ipython3",
   "version": "3.12.7"
  }
 },
 "nbformat": 4,
 "nbformat_minor": 5
}
