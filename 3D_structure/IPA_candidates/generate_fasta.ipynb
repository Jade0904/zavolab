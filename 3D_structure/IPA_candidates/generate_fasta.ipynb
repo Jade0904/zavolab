{
 "cells": [
  {
   "cell_type": "code",
   "execution_count": 10,
   "id": "6ab25dfb-e970-4438-a4c0-c2cf05b19086",
   "metadata": {},
   "outputs": [],
   "source": [
    "import pandas as pd\n",
    "import os"
   ]
  },
  {
   "cell_type": "code",
   "execution_count": 12,
   "id": "a8d6f4a4-bd0f-4214-bef1-a9240cc3b008",
   "metadata": {},
   "outputs": [],
   "source": [
    "candidates = pd.read_csv('0716_LIHC_novel_transcripts.csv')\n",
    "\n",
    "for index, row in candidates.iterrows():\n",
    "    if isinstance(row['ref_aa'], str):\n",
    "        ref_fasta_file = row['category'] + \"_\" + str(index) + \"_ref.fasta\"\n",
    "        ref_fasta_path = os.path.join(\"aa_seq\", ref_fasta_file)\n",
    "        iso_fasta_file = row['category'] + \"_\" + str(index) + \"_iso.fasta\"\n",
    "        iso_fasta_path = os.path.join(\"aa_seq\", iso_fasta_file)\n",
    "        with open(ref_fasta_path, 'w') as file:\n",
    "            header = row['SCINPAS_PAS_id'] + \"_\" + row['category'] + \"_ref\"\n",
    "            seq = row['ref_aa']\n",
    "            file.write(f'>{header}\\n') # write the header\n",
    "            file.write(f'{seq}') # write the sequence\n",
    "        with open(iso_fasta_path, 'w') as file:\n",
    "            header = row['SCINPAS_PAS_id'] + \"_\" + row['category'] + \"_iso\"\n",
    "            seq = row['iso_aa']\n",
    "            file.write(f'>{header}\\n')\n",
    "            file.write(f'{seq}')"
   ]
  }
 ],
 "metadata": {
  "kernelspec": {
   "display_name": "Python [conda env:miniforge3-myenv2]",
   "language": "python",
   "name": "conda-env-miniforge3-myenv2-py"
  },
  "language_info": {
   "codemirror_mode": {
    "name": "ipython",
    "version": 3
   },
   "file_extension": ".py",
   "mimetype": "text/x-python",
   "name": "python",
   "nbconvert_exporter": "python",
   "pygments_lexer": "ipython3",
   "version": "3.12.2"
  }
 },
 "nbformat": 4,
 "nbformat_minor": 5
}
