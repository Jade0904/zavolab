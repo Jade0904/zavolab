{
 "cells": [
  {
   "cell_type": "code",
   "execution_count": 3,
   "id": "7047cb9d-1b56-4bbf-ae61-be3bc42ac610",
   "metadata": {},
   "outputs": [],
   "source": [
    "import os\n",
    "import pandas as pd\n",
    "\n",
    "working_dir = \"/scicore/home/zavolan/zhu0006/3D_structure/structural_stability_of_novel_orfs_hcc\"\n",
    "evidence_lv = \"No_Evidence\"\n",
    "cmd_path = os.path.join(\"array_slurm\", evidence_lv+\".cmd\")\n",
    "\n",
    "# get protein ids\n",
    "df = pd.read_excel(\"Readthrough_Sequences.xlsx\", sheet_name = evidence_lv)\n",
    "if evidence_lv == \"No_Evidence\":\n",
    "    df = df.sample(n=1000, random_state=42)\n",
    "for index, row in df.iterrows():\n",
    "    protein_id = row['Protein'] + \"_\" + str(index)\n",
    "    command = \"python pairs_csv.py --sl \" + evidence_lv + \" --pid \" + protein_id + \"\\n\"\n",
    "    with open(cmd_path, \"a\") as f:\n",
    "        f.write(command)"
   ]
  },
  {
   "cell_type": "code",
   "execution_count": null,
   "id": "f679c47a-dc81-45bd-ae34-b1bcfc4b68d4",
   "metadata": {},
   "outputs": [],
   "source": []
  }
 ],
 "metadata": {
  "kernelspec": {
   "display_name": "Python [conda env:miniforge3-structure_wf]",
   "language": "python",
   "name": "conda-env-miniforge3-structure_wf-py"
  },
  "language_info": {
   "codemirror_mode": {
    "name": "ipython",
    "version": 3
   },
   "file_extension": ".py",
   "mimetype": "text/x-python",
   "name": "python",
   "nbconvert_exporter": "python",
   "pygments_lexer": "ipython3",
   "version": "3.12.7"
  }
 },
 "nbformat": 4,
 "nbformat_minor": 5
}
