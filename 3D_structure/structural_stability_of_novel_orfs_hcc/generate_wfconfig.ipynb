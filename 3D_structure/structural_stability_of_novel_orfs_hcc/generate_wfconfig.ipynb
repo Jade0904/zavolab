{
 "cells": [
  {
   "cell_type": "code",
   "execution_count": 1,
   "metadata": {},
   "outputs": [],
   "source": [
    "import os\n",
    "import yaml"
   ]
  },
  {
   "cell_type": "code",
   "execution_count": 2,
   "metadata": {},
   "outputs": [],
   "source": [
    "# input directory\n",
    "directory = \"/scicore/home/zavolan/zhu0006/3D_structure/structural_stability_of_novel_orfs_hcc/fasta/No_Evidence\"\n",
    "\n",
    "# params\n",
    "N_AF = 5 # number of AlphaFold output models\n",
    "N_lowestTag = 3 # number of extracted pdb files after relax, with the lowest scores\n",
    "relax_nstruct = 5 # number of relax structures\n",
    "working_dir = \"/scicore/home/zavolan/zhu0006/3D_structure/structural_stability_of_novel_orfs_hcc\" # current working directory\n",
    "res_folder = \"structure_res/No_Evidence\" # folder to store results, will be under working_dir\n",
    "relax_path = \"/scicore/home/zavolan/zhu0006/3D_structure/Rosetta/rosetta.binary.linux.release-371/main/source/bin/relax.static.linuxgccrelease\" # path to relax application\n",
    "extract_pdbs_path = \"/scicore/home/zavolan/zhu0006/3D_structure/Rosetta/rosetta.binary.linux.release-371/main/source/bin/extract_pdbs.static.linuxgccrelease\" # path to extract relax pdbs application\n",
    "per_residue_energies_path = \"/scicore/home/zavolan/zhu0006/3D_structure/Rosetta/rosetta_bin_linux_2021.16.61629_bundle/main/source/bin/per_residue_energies.static.linuxgccrelease\" # path to calculate per-residue energies for a structure\n",
    "snakemake_wf_dir = \"/scicore/home/zavolan/zhu0006/3D_structure/structural_stability_of_novel_orfs_hcc/snakemake_wf_gpu_5\" # snakemake workflow directory"
   ]
  },
  {
   "cell_type": "code",
   "execution_count": 3,
   "metadata": {},
   "outputs": [
    {
     "name": "stdout",
     "output_type": "stream",
     "text": [
      "Config file generated at /scicore/home/zavolan/zhu0006/3D_structure/structural_stability_of_novel_orfs_hcc/snakemake_wf_gpu_5/config.yaml\n"
     ]
    }
   ],
   "source": [
    "# generate yaml file\n",
    "\n",
    "# yaml directory\n",
    "yaml_dir = \"/scicore/home/zavolan/zhu0006/3D_structure/structural_stability_of_novel_orfs_hcc/snakemake_wf_gpu_5/config.yaml\"\n",
    "\n",
    "# create a dictionary\n",
    "config = {'ids': {},\n",
    "          'params': {'N_AF': N_AF,\n",
    "                     'N_lowestTag': N_lowestTag,\n",
    "                     'relax_nstruct': relax_nstruct,\n",
    "                     'working_dir': working_dir,\n",
    "                     'res_folder': res_folder,\n",
    "                     'relax_path': relax_path,\n",
    "                     'extract_pdbs_path': extract_pdbs_path,\n",
    "                     'per_residue_energies_path': per_residue_energies_path,\n",
    "                     'snakemake_wf_dir': snakemake_wf_dir}\n",
    "        }\n",
    "\n",
    "# inputs\n",
    "inputs = [f for f in os.listdir(directory) if f.endswith(\".fasta\")] # get all fasta files in the directory\n",
    "\n",
    "for i in inputs:\n",
    "    id = os.path.splitext(i)[0] # get the id of the fasta file\n",
    "    config['ids'][id] = os.path.join(directory, i) # add the id and the path to the dictionary\n",
    "\n",
    "\n",
    "# write the dictionary to the yaml file\n",
    "with open(yaml_dir, 'w') as config_file:\n",
    "    yaml.dump(config, config_file)\n",
    "print(f\"Config file generated at {yaml_dir}\")"
   ]
  },
  {
   "cell_type": "code",
   "execution_count": null,
   "metadata": {},
   "outputs": [],
   "source": []
  }
 ],
 "metadata": {
  "kernelspec": {
   "display_name": "Python [conda env:miniforge3-structure_wf]",
   "language": "python",
   "name": "conda-env-miniforge3-structure_wf-py"
  },
  "language_info": {
   "codemirror_mode": {
    "name": "ipython",
    "version": 3
   },
   "file_extension": ".py",
   "mimetype": "text/x-python",
   "name": "python",
   "nbconvert_exporter": "python",
   "pygments_lexer": "ipython3",
   "version": "3.12.7"
  }
 },
 "nbformat": 4,
 "nbformat_minor": 4
}
