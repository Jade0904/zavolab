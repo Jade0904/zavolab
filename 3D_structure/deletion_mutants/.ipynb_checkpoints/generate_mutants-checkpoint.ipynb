{
 "cells": [
  {
   "cell_type": "code",
   "execution_count": 1,
   "id": "31d3a088-28c9-47dd-a457-cce6ba148b68",
   "metadata": {},
   "outputs": [],
   "source": [
    "from Bio import SeqIO"
   ]
  },
  {
   "cell_type": "code",
   "execution_count": 5,
   "id": "81c8acb3-d473-4d65-8b54-184e463e66a8",
   "metadata": {},
   "outputs": [],
   "source": [
    "input_file = \"fasta/BMRB51377.fasta\"\n",
    "\n",
    "record = next(SeqIO.parse(input_file, \"fasta\"))\n",
    "sequence = record.seq\n",
    "header = record.id"
   ]
  },
  {
   "cell_type": "code",
   "execution_count": 6,
   "id": "31e7efdb-e992-4cdd-a6d5-db9046f71c2d",
   "metadata": {},
   "outputs": [
    {
     "data": {
      "text/plain": [
       "'BMRB51377'"
      ]
     },
     "execution_count": 6,
     "metadata": {},
     "output_type": "execute_result"
    }
   ],
   "source": [
    "for i in range(len(sequence)):\n",
    "    new_sequence = sequence[:i] + sequence[i+1:]\n",
    "    new_header = f\"{original_header}_del{i+1}\"\n",
    "    new_record = record.__class__(seq=new_sequence, id=new_header, description='')\n",
    "    output_file = f\"fasta/del{i+1}.fasta\"\n",
    "    with open(output_file, \"w\") as output_handle:\n",
    "        SeqIO.write(new_record, output_handle, \"fasta\")"
   ]
  }
 ],
 "metadata": {
  "kernelspec": {
   "display_name": "Python [conda env:miniforge3-myenv2]",
   "language": "python",
   "name": "conda-env-miniforge3-myenv2-py"
  },
  "language_info": {
   "codemirror_mode": {
    "name": "ipython",
    "version": 3
   },
   "file_extension": ".py",
   "mimetype": "text/x-python",
   "name": "python",
   "nbconvert_exporter": "python",
   "pygments_lexer": "ipython3",
   "version": "3.12.2"
  }
 },
 "nbformat": 4,
 "nbformat_minor": 5
}
