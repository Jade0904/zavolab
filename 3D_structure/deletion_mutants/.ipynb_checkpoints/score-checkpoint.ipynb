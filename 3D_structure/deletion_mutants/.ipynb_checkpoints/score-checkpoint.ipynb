{
 "cells": [
  {
   "cell_type": "code",
   "execution_count": 20,
   "id": "cc9a5f42-35b8-4de8-abcc-2cf4871e4520",
   "metadata": {},
   "outputs": [],
   "source": [
    "import pandas as pd\n",
    "import json\n",
    "import os\n",
    "import matplotlib.pyplot as plt"
   ]
  },
  {
   "cell_type": "markdown",
   "id": "4f09d86d-7951-4969-9d00-5f5b5ad3ba61",
   "metadata": {},
   "source": [
    "get relax score"
   ]
  },
  {
   "cell_type": "code",
   "execution_count": 20,
   "id": "df510a1e-f58f-462c-b8c6-dc805d86ed7e",
   "metadata": {},
   "outputs": [
    {
     "name": "stdout",
     "output_type": "stream",
     "text": [
      "[-197.961, -196.539, -199.556, -198.304, -196.93, -197.256, -197.658, -197.873, -197.553, -197.83, -192.098, -191.834, -193.075, -188.998, -194.856, -193.839, -191.166, -192.098, -190.856, -196.229, -194.712, -197.911, -191.315, -188.453, -193.068, -183.273, -184.922, -188.721, -182.763, -186.831, -192.973, -193.396, -194.875, -195.587, -196.088, -198.08, -192.292, -194.712, -193.804, -194.32, -195.023, -192.318, -193.216, -193.293, -191.986, -192.751, -192.263, -194.95, -192.754, -196.994]\n",
      "50\n"
     ]
    }
   ],
   "source": [
    "# wt test calculate relax score\n",
    "scores = []\n",
    "with open(\"alphafold_res/BMRB51377/af_wt.sc\", \"r\") as f:\n",
    "    for count, line in enumerate(f.readlines()):\n",
    "        if (count != 0) and (count != 1):\n",
    "            line = line.strip(\"\\n\")\n",
    "            line = line.split()\n",
    "            scores.append(float(line[1]))\n",
    "\n",
    "print(scores)\n",
    "print(len(scores))"
   ]
  },
  {
   "cell_type": "code",
   "execution_count": 24,
   "id": "6e737920-a526-4d80-85c7-3c6241452197",
   "metadata": {},
   "outputs": [
    {
     "data": {
      "text/plain": [
       "'-198.647'"
      ]
     },
     "execution_count": 24,
     "metadata": {},
     "output_type": "execute_result"
    }
   ],
   "source": [
    "format(sum(sorted(scores)[:3])/3, \".3f\")"
   ]
  },
  {
   "cell_type": "code",
   "execution_count": 6,
   "id": "7950e6d1-2466-4984-8db9-770a65b111ef",
   "metadata": {},
   "outputs": [],
   "source": [
    "def get_relaxScore(sc_file):\n",
    "    scores = []\n",
    "    with open(sc_file, \"r\") as f:\n",
    "        for count, line in enumerate(f.readlines()):\n",
    "            if (count != 0) and (count != 1):\n",
    "                line = line.strip(\"\\n\")\n",
    "                line = line.split()\n",
    "                scores.append(float(line[1]))\n",
    "\n",
    "    score = format(sum(sorted(scores)[:3])/3, \".3f\")\n",
    "    return float(score)"
   ]
  },
  {
   "cell_type": "code",
   "execution_count": 7,
   "id": "22041531-ba51-410c-bcab-d7b422ba224b",
   "metadata": {},
   "outputs": [
    {
     "data": {
      "text/plain": [
       "float"
      ]
     },
     "execution_count": 7,
     "metadata": {},
     "output_type": "execute_result"
    }
   ],
   "source": [
    "# test get_relaxScore function\n",
    "get_relaxScore(\"alphafold_res/BMRB51377/af_wt.sc\")"
   ]
  },
  {
   "cell_type": "markdown",
   "id": "8f2577b3-79d5-4976-aaee-d60a39935668",
   "metadata": {},
   "source": [
    "get average plddt"
   ]
  },
  {
   "cell_type": "code",
   "execution_count": 37,
   "id": "1089ddb0-ae83-4463-a33a-2d2d7cb81dfe",
   "metadata": {},
   "outputs": [
    {
     "data": {
      "text/plain": [
       "'86.854'"
      ]
     },
     "execution_count": 37,
     "metadata": {},
     "output_type": "execute_result"
    }
   ],
   "source": [
    "# wt calculate plddt average\n",
    "af_ranking = json.load(open(\"alphafold_res/BMRB51377/ranking_debug.json\"))\n",
    "format(sum(af_ranking['plddts'].values()) / len(af_ranking['plddts'].values()), '.3f')"
   ]
  },
  {
   "cell_type": "code",
   "execution_count": 8,
   "id": "179e9ba4-7230-47fd-91c5-325d07860089",
   "metadata": {},
   "outputs": [],
   "source": [
    "def get_plddt(af_ranking_file):\n",
    "    af_ranking = json.load(open(af_ranking_file))\n",
    "    ave_plddt = format(sum(af_ranking['plddts'].values()) / len(af_ranking['plddts'].values()), '.3f')\n",
    "    return float(ave_plddt)"
   ]
  },
  {
   "cell_type": "code",
   "execution_count": 9,
   "id": "3ebf7255-71ad-4254-9df7-541f3c979ddf",
   "metadata": {},
   "outputs": [
    {
     "data": {
      "text/plain": [
       "float"
      ]
     },
     "execution_count": 9,
     "metadata": {},
     "output_type": "execute_result"
    }
   ],
   "source": [
    "# test get_plddt function\n",
    "get_plddt(\"alphafold_res/BMRB51377/ranking_debug.json\")"
   ]
  },
  {
   "cell_type": "markdown",
   "id": "d76c839d-c567-4e00-8cf5-15f37aa698e5",
   "metadata": {},
   "source": [
    "collect plddts and relaxScore"
   ]
  },
  {
   "cell_type": "code",
   "execution_count": 12,
   "id": "cf5d6f28-3217-4a2a-ac9d-2819e3b3afe7",
   "metadata": {},
   "outputs": [],
   "source": [
    "# collect plddts and relaxScore\n",
    "\n",
    "# initialize the dataframe\n",
    "scores_df = pd.DataFrame(data = [['wt', 86.854, -198.647, 0]],\n",
    "                         columns = ['seq', 'plddt', 'relaxScore', 'DDG'])\n",
    "\n",
    "# set directory\n",
    "directory = \"alphafold_res\"\n",
    "\n",
    "# collect information and append to the dataframe\n",
    "for folder in os.listdir(directory):\n",
    "    if folder.startswith('del'):\n",
    "        current_path = os.path.join(directory, folder)\n",
    "        af_ranking_path = os.path.join(current_path, \"ranking_debug.json\")\n",
    "        relaxScore_filename = 'af_' + folder + '.sc'\n",
    "        relaxScore_path = os.path.join(current_path, relaxScore_filename)\n",
    "        plddt = get_plddt(af_ranking_path)\n",
    "        relaxScore = get_relaxScore(relaxScore_path)\n",
    "        DDG = float(format(72*relaxScore/71 - (-198.647), \"3.3f\"))\n",
    "        scores_df.loc[len(scores_df)] = [folder, plddt, relaxScore, DDG]"
   ]
  },
  {
   "cell_type": "code",
   "execution_count": 25,
   "id": "b7f16cf7-d023-4f3b-8364-0c19076aa0a6",
   "metadata": {},
   "outputs": [
    {
     "data": {
      "text/html": [
       "<div>\n",
       "<style scoped>\n",
       "    .dataframe tbody tr th:only-of-type {\n",
       "        vertical-align: middle;\n",
       "    }\n",
       "\n",
       "    .dataframe tbody tr th {\n",
       "        vertical-align: top;\n",
       "    }\n",
       "\n",
       "    .dataframe thead th {\n",
       "        text-align: right;\n",
       "    }\n",
       "</style>\n",
       "<table border=\"1\" class=\"dataframe\">\n",
       "  <thead>\n",
       "    <tr style=\"text-align: right;\">\n",
       "      <th></th>\n",
       "      <th>seq</th>\n",
       "      <th>plddt</th>\n",
       "      <th>relaxScore</th>\n",
       "      <th>DDG</th>\n",
       "    </tr>\n",
       "  </thead>\n",
       "  <tbody>\n",
       "    <tr>\n",
       "      <th>0</th>\n",
       "      <td>wt</td>\n",
       "      <td>86.854</td>\n",
       "      <td>-198.647</td>\n",
       "      <td>0.000</td>\n",
       "    </tr>\n",
       "    <tr>\n",
       "      <th>1</th>\n",
       "      <td>del51</td>\n",
       "      <td>86.915</td>\n",
       "      <td>-204.047</td>\n",
       "      <td>-8.274</td>\n",
       "    </tr>\n",
       "    <tr>\n",
       "      <th>2</th>\n",
       "      <td>del63</td>\n",
       "      <td>89.952</td>\n",
       "      <td>-212.879</td>\n",
       "      <td>-17.230</td>\n",
       "    </tr>\n",
       "    <tr>\n",
       "      <th>3</th>\n",
       "      <td>del13</td>\n",
       "      <td>82.318</td>\n",
       "      <td>-193.934</td>\n",
       "      <td>1.982</td>\n",
       "    </tr>\n",
       "    <tr>\n",
       "      <th>4</th>\n",
       "      <td>del50</td>\n",
       "      <td>87.306</td>\n",
       "      <td>-209.334</td>\n",
       "      <td>-13.635</td>\n",
       "    </tr>\n",
       "    <tr>\n",
       "      <th>...</th>\n",
       "      <td>...</td>\n",
       "      <td>...</td>\n",
       "      <td>...</td>\n",
       "      <td>...</td>\n",
       "    </tr>\n",
       "    <tr>\n",
       "      <th>62</th>\n",
       "      <td>del12</td>\n",
       "      <td>81.020</td>\n",
       "      <td>-197.953</td>\n",
       "      <td>-2.094</td>\n",
       "    </tr>\n",
       "    <tr>\n",
       "      <th>63</th>\n",
       "      <td>del71</td>\n",
       "      <td>87.347</td>\n",
       "      <td>-199.058</td>\n",
       "      <td>-3.215</td>\n",
       "    </tr>\n",
       "    <tr>\n",
       "      <th>64</th>\n",
       "      <td>del61</td>\n",
       "      <td>88.391</td>\n",
       "      <td>-196.705</td>\n",
       "      <td>-0.828</td>\n",
       "    </tr>\n",
       "    <tr>\n",
       "      <th>65</th>\n",
       "      <td>del72</td>\n",
       "      <td>87.490</td>\n",
       "      <td>-206.162</td>\n",
       "      <td>-10.419</td>\n",
       "    </tr>\n",
       "    <tr>\n",
       "      <th>66</th>\n",
       "      <td>del29</td>\n",
       "      <td>85.360</td>\n",
       "      <td>-184.703</td>\n",
       "      <td>11.343</td>\n",
       "    </tr>\n",
       "  </tbody>\n",
       "</table>\n",
       "<p>67 rows × 4 columns</p>\n",
       "</div>"
      ],
      "text/plain": [
       "      seq   plddt  relaxScore     DDG\n",
       "0      wt  86.854    -198.647   0.000\n",
       "1   del51  86.915    -204.047  -8.274\n",
       "2   del63  89.952    -212.879 -17.230\n",
       "3   del13  82.318    -193.934   1.982\n",
       "4   del50  87.306    -209.334 -13.635\n",
       "..    ...     ...         ...     ...\n",
       "62  del12  81.020    -197.953  -2.094\n",
       "63  del71  87.347    -199.058  -3.215\n",
       "64  del61  88.391    -196.705  -0.828\n",
       "65  del72  87.490    -206.162 -10.419\n",
       "66  del29  85.360    -184.703  11.343\n",
       "\n",
       "[67 rows x 4 columns]"
      ]
     },
     "execution_count": 25,
     "metadata": {},
     "output_type": "execute_result"
    }
   ],
   "source": [
    "scores_df"
   ]
  },
  {
   "cell_type": "code",
   "execution_count": 23,
   "id": "8cf1cff6-9a31-4a6c-92ca-ea09508f7c70",
   "metadata": {},
   "outputs": [
    {
     "data": {
      "image/png": "[encoded data removed]",
      "text/plain": [
       "<Figure size 800x600 with 1 Axes>"
      ]
     },
     "metadata": {},
     "output_type": "display_data"
    }
   ],
   "source": [
    "soluble_seqs = ['del2', 'del3', 'del5', 'del50', 'del51', 'del52',\n",
    "                'del59', 'del62', 'del63', 'del64', 'del66', 'del67',\n",
    "                'del68', 'del69', 'del70', 'del71', 'del71']\n",
    "\n",
    "plt.figure(figsize = (8, 6))\n",
    "plt.scatter(scores_df['plddt'], scores_df['DDG'], color = 'orange', label = 'insoluble')\n",
    "soluble = scores_df[scores_df['seq'].isin(soluble_seqs)]\n",
    "plt.scatter(soluble['plddt'], soluble['DDG'], color = 'blue', label = 'soluble')\n",
    "\n",
    "plt.xlim(70, 95)\n",
    "plt.ylim(-20, 25)\n",
    "\n",
    "plt.axhline(y = 0, color = 'black')\n",
    "plt.axvline(x = 86.854, color = 'black')\n",
    "\n",
    "plt.xlabel('pLDDT')\n",
    "plt.ylabel('DDG')\n",
    "plt.title('AlphaFold Deletion Discrimination')\n",
    "plt.legend()\n",
    "\n",
    "plt.show()"
   ]
  },
  {
   "cell_type": "markdown",
   "id": "ad15f9f6-5072-43a6-bdbf-8fbfb193d4a9",
   "metadata": {},
   "source": [
    "To clarify, here the point at original is actually the wildtype, I forgot to delete this point, which is actually soluble but showed insoluble in the figure."
   ]
  },
  {
   "cell_type": "code",
   "execution_count": 45,
   "id": "4cccdce7-b947-4ffe-9598-4296225f37c1",
   "metadata": {},
   "outputs": [],
   "source": [
    "# for figure 3d, DDG vs deltaTM\n",
    "soluble_df = pd.DataFrame(data = [['del2', 59.2, 61.3, -6.096, '2'],\n",
    "                                  ['del3', 58.5, 61.9, -7.637, '3'],\n",
    "                                  ['del5', 58.5, 59.6, -11.62, '5'],\n",
    "                                  ['del50', 55.5, 56.6, -13.635, '50'],\n",
    "                                  ['del51', 58.1, 60.6, -8.274, '51'],\n",
    "                                  ['del52', 62.2, 56.0, -5.721, '52'],\n",
    "                                  ['del59', 59.2, 59.5, 2.657, '59'],\n",
    "                                  ['del62', 58.7, 60.5, -16.695, '62'],\n",
    "                                  ['del63', 56.1, 54.2, -17.23, '63'],\n",
    "                                  ['del64', 58.8, 60.4, -12.474, '64'],\n",
    "                                  ['del66', 58.7, 59.3, -8.008, '66'],\n",
    "                                  ['del67', 61.4, 61.4, -11.61, '67'],\n",
    "                                  ['del68', 57.2, 57.8, -14.069, '68'],\n",
    "                                  ['del69', 57.8, 58.8, -9.156, '69'],\n",
    "                                  ['del70', 58.7, 60.4, -5.008, '70'],\n",
    "                                  ['del71', 57.7, 59.2, -3.215, '71'],\n",
    "                                  ['del72', 58.7, 59.3, -10.419, '72']],\n",
    "                          columns = ['seq', 'average_TM_CD', 'average_TM_nanoDSF', 'DDG', 'label'])\n",
    "\n",
    "soluble_df['delta_TM_CD'] = soluble_df['average_TM_CD'] - 58.9\n",
    "soluble_df['delta_TM_nanoDSF'] = soluble_df['average_TM_nanoDSF'] - 60.2"
   ]
  },
  {
   "cell_type": "code",
   "execution_count": 50,
   "id": "a9e55067-ff5a-499a-82e8-7adb7e7873fc",
   "metadata": {},
   "outputs": [
    {
     "data": {
      "text/plain": [
       "pandas.core.series.Series"
      ]
     },
     "execution_count": 50,
     "metadata": {},
     "output_type": "execute_result"
    }
   ],
   "source": [
    "type(soluble_df['label'])"
   ]
  },
  {
   "cell_type": "code",
   "execution_count": 52,
   "id": "c1a9b254-542f-44ae-8a35-d1155245d9b4",
   "metadata": {},
   "outputs": [
    {
     "data": {
      "image/png": "[encoded data removed]",
      "text/plain": [
       "<Figure size 800x600 with 1 Axes>"
      ]
     },
     "metadata": {},
     "output_type": "display_data"
    }
   ],
   "source": [
    "plt.figure(figsize = (8, 6))\n",
    "plt.scatter(soluble_df['delta_TM_nanoDSF'], soluble_df['DDG'], color = 'gray')\n",
    "\n",
    "for index, row in soluble_df.iterrows():\n",
    "    plt.text(row['delta_TM_nanoDSF'], row['DDG'], row['label'], color = 'black')\n",
    "\n",
    "plt.xlim(-7, 3)\n",
    "plt.ylim(-20, 5)\n",
    "\n",
    "plt.xlabel('delta_TM')\n",
    "plt.ylabel('DDG')\n",
    "plt.title('deltaTM measured with nanoDSF vs. DDG')\n",
    "\n",
    "plt.show()"
   ]
  }
 ],
 "metadata": {
  "kernelspec": {
   "display_name": "Python [conda env:miniforge3-myenv2]",
   "language": "python",
   "name": "conda-env-miniforge3-myenv2-py"
  },
  "language_info": {
   "codemirror_mode": {
    "name": "ipython",
    "version": 3
   },
   "file_extension": ".py",
   "mimetype": "text/x-python",
   "name": "python",
   "nbconvert_exporter": "python",
   "pygments_lexer": "ipython3",
   "version": "3.12.2"
  }
 },
 "nbformat": 4,
 "nbformat_minor": 5
}
