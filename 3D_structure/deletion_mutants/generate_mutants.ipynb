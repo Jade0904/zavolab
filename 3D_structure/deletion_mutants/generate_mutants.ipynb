{
 "cells": [
  {
   "cell_type": "code",
   "execution_count": 14,
   "id": "31d3a088-28c9-47dd-a457-cce6ba148b68",
   "metadata": {},
   "outputs": [],
   "source": [
    "from Bio import SeqIO\n",
    "from Bio.SeqIO import FastaIO\n",
    "from Bio.SeqRecord import SeqRecord\n",
    "from Bio.Seq import Seq"
   ]
  },
  {
   "cell_type": "code",
   "execution_count": 15,
   "id": "81c8acb3-d473-4d65-8b54-184e463e66a8",
   "metadata": {},
   "outputs": [],
   "source": [
    "input_file = \"fasta/BMRB51377.fasta\"\n",
    "\n",
    "record = next(SeqIO.parse(input_file, \"fasta\"))\n",
    "sequence = record.seq\n",
    "header = record.id"
   ]
  },
  {
   "cell_type": "code",
   "execution_count": 17,
   "id": "31e7efdb-e992-4cdd-a6d5-db9046f71c2d",
   "metadata": {},
   "outputs": [],
   "source": [
    "for i in range(len(sequence)):\n",
    "    new_sequence = sequence[:i] + sequence[i+1:]\n",
    "    new_header = f\"{header}_del{i+1}\"\n",
    "    new_record = SeqRecord(new_sequence, id=new_header, description='')\n",
    "    output_file = f\"fasta/del{i+1}.fasta\"\n",
    "    with open(output_file, \"w\") as output_handle:\n",
    "        fasta_out = FastaIO.FastaWriter(output_handle, wrap = None)\n",
    "        fasta_out.write_header()\n",
    "        fasta_out.write_record(new_record)\n",
    "        fasta_out.write_footer()"
   ]
  }
 ],
 "metadata": {
  "kernelspec": {
   "display_name": "Python [conda env:miniforge3-myenv2]",
   "language": "python",
   "name": "conda-env-miniforge3-myenv2-py"
  },
  "language_info": {
   "codemirror_mode": {
    "name": "ipython",
    "version": 3
   },
   "file_extension": ".py",
   "mimetype": "text/x-python",
   "name": "python",
   "nbconvert_exporter": "python",
   "pygments_lexer": "ipython3",
   "version": "3.12.2"
  }
 },
 "nbformat": 4,
 "nbformat_minor": 5
}
